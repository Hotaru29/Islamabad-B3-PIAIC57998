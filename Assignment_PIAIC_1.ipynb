{
 "cells": [
  {
   "cell_type": "markdown",
   "metadata": {},
   "source": [
    "## Name: Pakeeza Shehnaz"
   ]
  },
  {
   "cell_type": "markdown",
   "metadata": {},
   "source": [
    "## Roll #  PIAIC57998"
   ]
  },
  {
   "cell_type": "markdown",
   "metadata": {},
   "source": [
    "### ---------------------------------------------------------"
   ]
  },
  {
   "cell_type": "markdown",
   "metadata": {},
   "source": [
    "### 1. Calculate Area of a Circle\n",
    "#### Write a Python program which accepts the radius of a circle from the user and compute the area."
   ]
  },
  {
   "cell_type": "code",
   "execution_count": 7,
   "metadata": {},
   "outputs": [
    {
     "name": "stdout",
     "output_type": "stream",
     "text": [
      "Input Radius: 0.5\n",
      "0.7857142857142857\n"
     ]
    }
   ],
   "source": [
    "radius = float(input(\"Input Radius: \"))\n",
    "area_of_circle = (22/7) * radius ** 2\n",
    "print (area_of_circle)"
   ]
  },
  {
   "cell_type": "markdown",
   "metadata": {},
   "source": [
    "### -----------------------------------------------------------------"
   ]
  },
  {
   "cell_type": "markdown",
   "metadata": {},
   "source": [
    "### 2. Check Number either positive, negative or zero\n",
    "#### Write a Python program to check if a number is positive, negative or zero"
   ]
  },
  {
   "cell_type": "code",
   "execution_count": 6,
   "metadata": {},
   "outputs": [
    {
     "name": "stdout",
     "output_type": "stream",
     "text": [
      "Input a number: 0\n",
      "Zero Entered\n"
     ]
    }
   ],
   "source": [
    "user_input = int(input(\"Input a number: \"))\n",
    "\n",
    "if (user_input >= 1):\n",
    "    print(\"Positive Number Entered\")\n",
    "elif (user_input <= -1):\n",
    "    print(\"Negative Number Entered\")\n",
    "elif (user_input == 0):\n",
    "    print(\"Zero Entered\")\n",
    "else:\n",
    "    print(\"Invalid Input!\")"
   ]
  },
  {
   "cell_type": "markdown",
   "metadata": {},
   "source": [
    "### ------------------------------------------------------------"
   ]
  },
  {
   "cell_type": "markdown",
   "metadata": {},
   "source": [
    "### 3. Divisibility Check of two numbers\n",
    "#### Write a Python program to check whether a number is completely divisible by another number. Accept two integer values form the user"
   ]
  },
  {
   "cell_type": "code",
   "execution_count": 2,
   "metadata": {},
   "outputs": [
    {
     "name": "stdout",
     "output_type": "stream",
     "text": [
      "Input Numerator: 5\n",
      "Input Denominator: 2\n",
      "No first number is not divisible by second number.\n"
     ]
    }
   ],
   "source": [
    "numb_one = int(input(\"Input Numerator: \"))\n",
    "numb_two = int(input(\"Input Denominator: \"))\n",
    "\n",
    "if (numb_one % numb_two == 0):\n",
    "    print(\"Yes first number is divisible by second number.\")\n",
    "else:\n",
    "    print(\"No first number is not divisible by second number.\")\n"
   ]
  },
  {
   "cell_type": "markdown",
   "metadata": {},
   "source": [
    "## ---------------------------------------------"
   ]
  },
  {
   "cell_type": "markdown",
   "metadata": {},
   "source": [
    "### 4. Days Calculator\n",
    "#### Write a Python program to calculate number of days between two dates\n"
   ]
  },
  {
   "cell_type": "code",
   "execution_count": 19,
   "metadata": {},
   "outputs": [
    {
     "name": "stdout",
     "output_type": "stream",
     "text": [
      "Enter first date in format dd/mm/yy ___ 29/5/98\n",
      "Enter second date in format dd/mm/yy ___ 3/3/18\n",
      "Days remaining 34771 days, 0:00:00\n"
     ]
    }
   ],
   "source": [
    "import datetime\n",
    "\n",
    "first_date_input = input(\"Enter first date in format dd/mm/yy ___ \")\n",
    "second_date_input = input(\"Enter second date in format dd/mm/yy ___ \")\n",
    "\n",
    "day_one, month_one, year_one = map(int, first_date_input.split('/'))\n",
    "first_date = datetime.date(year_one, month_one, day_one)\n",
    "\n",
    "year_two, month_two, day_two = map(int, second_date_input.split('/'))\n",
    "second_date = datetime.date(year_two, month_two, day_two)\n",
    "\n",
    "days_remaining = str(first_date - second_date)\n",
    "\n",
    "print(\"Days remaining \" + days_remaining)"
   ]
  },
  {
   "cell_type": "markdown",
   "metadata": {},
   "source": [
    "### ------------------------------------------------- "
   ]
  },
  {
   "cell_type": "markdown",
   "metadata": {},
   "source": [
    "### 5. Calculate Volume of a sphere\n",
    "#### Write a Python program to get the volume of a sphere, please take the radius as input from user"
   ]
  },
  {
   "cell_type": "code",
   "execution_count": 28,
   "metadata": {},
   "outputs": [
    {
     "name": "stdout",
     "output_type": "stream",
     "text": [
      "Enter Radius of sphere: 1\n",
      "4.1866666666666665\n"
     ]
    }
   ],
   "source": [
    "radius = float(input(\"Enter Radius of sphere: \"))\n",
    "vol = (4/3) * 3.14 * radius ** 3\n",
    "print (vol)"
   ]
  },
  {
   "cell_type": "markdown",
   "metadata": {},
   "source": [
    "### --------------------------------------------"
   ]
  },
  {
   "cell_type": "markdown",
   "metadata": {},
   "source": [
    "### 6. Copy string n times"
   ]
  },
  {
   "cell_type": "code",
   "execution_count": 27,
   "metadata": {},
   "outputs": [
    {
     "name": "stdout",
     "output_type": "stream",
     "text": [
      "Input String: a string\n",
      "How many copies  of string you need? 9\n",
      "9 copies of a string are:\n",
      "a stringa stringa stringa stringa stringa stringa stringa stringa string\n"
     ]
    }
   ],
   "source": [
    "string_input = input(\"Input String: \")\n",
    "string_times = int(input(\"How many copies  of string you need? \"))\n",
    "\n",
    "print(str(string_times) + \" copies of \" + string_input + \" are:\\n\" + string_input * string_times)"
   ]
  },
  {
   "cell_type": "markdown",
   "metadata": {},
   "source": [
    "### ------------------------------------------"
   ]
  },
  {
   "cell_type": "markdown",
   "metadata": {},
   "source": [
    "### 7. Check if number is Even or Odd"
   ]
  },
  {
   "cell_type": "code",
   "execution_count": 24,
   "metadata": {},
   "outputs": [
    {
     "name": "stdout",
     "output_type": "stream",
     "text": [
      "Enter a number: 29\n",
      "29 is an odd number.\n"
     ]
    }
   ],
   "source": [
    "input_e_o = int(input(\"Enter a number: \"))\n",
    "if input_e_o % 2 == 0:\n",
    "    print(str(input_e_o) + \" is an even number.\")\n",
    "else:\n",
    "    print(str(input_e_o) + \" is an odd number.\")"
   ]
  },
  {
   "cell_type": "markdown",
   "metadata": {},
   "source": [
    "### -------------------------------------"
   ]
  },
  {
   "cell_type": "markdown",
   "metadata": {},
   "source": [
    "### 8. Vowel Tester\n",
    "#### Write a Python program to test whether a passed letter is a vowel or not"
   ]
  },
  {
   "cell_type": "code",
   "execution_count": 21,
   "metadata": {},
   "outputs": [
    {
     "name": "stdout",
     "output_type": "stream",
     "text": [
      "Enter a word: E\n",
      "E is a vowel\n"
     ]
    }
   ],
   "source": [
    "user_vowel = input(\"Enter a word: \")\n",
    "\n",
    "\n",
    "if user_vowel == 'a' or user_vowel == 'e' or user_vowel == 'i' or user_vowel == 'o' or user_vowel == 'u' or user_vowel == 'A' or user_vowel == 'E' or user_vowel == 'I' or user_vowel == 'O' or user_vowel == 'U':\n",
    "    print(user_vowel + \" is a vowel\")\n",
    "else:\n",
    "    print(user_vowel + \" is not a vowel.\")"
   ]
  },
  {
   "cell_type": "markdown",
   "metadata": {},
   "source": [
    "### ----------------------------------"
   ]
  },
  {
   "cell_type": "markdown",
   "metadata": {},
   "source": [
    "### 9. Triangle area\n",
    "#### Write a Python program that will accept the base and height of a triangle and compute the area"
   ]
  },
  {
   "cell_type": "code",
   "execution_count": 17,
   "metadata": {},
   "outputs": [
    {
     "name": "stdout",
     "output_type": "stream",
     "text": [
      "Enter base of triangle: 4\n",
      "Enter height of triangle: 4\n",
      "Area of triangle with base 4 and height 4 is : 8\n"
     ]
    }
   ],
   "source": [
    "base_input = int(input(\"Enter base of triangle: \"))\n",
    "height_input = int(input(\"Enter height of triangle: \"))\n",
    "\n",
    "area_of_triangle = int((1/2) * height_input * base_input)\n",
    "\n",
    "print (\"Area of triangle with base \" + str(base_input) + \" and height \" + str(height_input) + \" is : \" + str(area_of_triangle))"
   ]
  },
  {
   "cell_type": "markdown",
   "metadata": {},
   "source": [
    "### 10. Calculate Interest\n",
    "#### Write a Python program to compute the future value of a specified principal amount, rate of interest, and a number of years "
   ]
  },
  {
   "cell_type": "code",
   "execution_count": 24,
   "metadata": {},
   "outputs": [
    {
     "name": "stdout",
     "output_type": "stream",
     "text": [
      "Enter the Principal Amount: 10000\n",
      "Enter paid interest rate in %: 0.1\n",
      "Enter duration in years: 5\n",
      "After 5 years your principal amount 10000 over an interest rate 0.1% will be 15000\n"
     ]
    }
   ],
   "source": [
    "input_principal_amount = int(input(\"Enter the Principal Amount: \"))\n",
    "input_paid_interest_rate = float(input(\"Enter paid interest rate in %: \"))\n",
    "input_duration = int(input(\"Enter duration in years: \"))\n",
    "\n",
    "FV = int(input_principal_amount * (1 + input_paid_interest_rate * input_duration))\n",
    "\n",
    "# print(FV)\n",
    "\n",
    "print(\"After \" + str(input_duration) + \" years your principal amount \" + str(input_principal_amount) + \" over an interest rate \" + str(input_paid_interest_rate) + \"% will be \" + str(FV))\n"
   ]
  },
  {
   "cell_type": "markdown",
   "metadata": {},
   "source": [
    "### ------------------------------------------------ "
   ]
  },
  {
   "cell_type": "markdown",
   "metadata": {},
   "source": [
    "### 11. Euclidean distance\n",
    "#### Write a Python program to compute the distance between the points (x1, y1) and (x2, y2)."
   ]
  },
  {
   "cell_type": "code",
   "execution_count": 16,
   "metadata": {},
   "outputs": [
    {
     "name": "stdout",
     "output_type": "stream",
     "text": [
      "Enter Co-ordinate for x1: 2\n",
      "Enter Co-ordinate for x2: 4\n",
      "Enter Co-ordinate for y1: 4\n",
      "Enter Co-ordinate for y2: 4\n",
      "distance between two points (2, 4) and (4, 4) is 2\n"
     ]
    }
   ],
   "source": [
    "x1 = int(input(\"Enter Co-ordinate for x1: \"))\n",
    "x2 = int(input(\"Enter Co-ordinate for x2: \"))\n",
    "y1 = int(input(\"Enter Co-ordinate for y1: \"))\n",
    "y2 = int(input(\"Enter Co-ordinate for y2: \"))\n",
    "\n",
    "dpq = int(((x2 - x1)**2 + (y2 - y1)**2)**1/2)\n",
    "\n",
    "print (\"distance between two points (\" + str(x1) + \", \" + str(x2) + \") and (\" + str(y1) + \", \" + str(y2) + \") is \" + str(dpq))"
   ]
  },
  {
   "cell_type": "markdown",
   "metadata": {},
   "source": [
    "### ---------------------------------------------------- "
   ]
  },
  {
   "cell_type": "markdown",
   "metadata": {},
   "source": [
    "### 12. Feet to Centimeter Converter\n",
    "#### Write a Python program to convert height in feet to centimetres."
   ]
  },
  {
   "cell_type": "code",
   "execution_count": 15,
   "metadata": {},
   "outputs": [
    {
     "name": "stdout",
     "output_type": "stream",
     "text": [
      "Enter height in feet: 5\n",
      "Height for 5.0 in cm is: 152.4\n"
     ]
    }
   ],
   "source": [
    "height_ft = float(input(\"Enter height in feet: \"))\n",
    "height_cm = height_ft * 30.48\n",
    "print(\"Height for \" + str(height_ft) + \" in cm is: \" + str(height_cm))"
   ]
  },
  {
   "cell_type": "markdown",
   "metadata": {},
   "source": [
    "### ------------------------------------------------"
   ]
  },
  {
   "cell_type": "markdown",
   "metadata": {},
   "source": [
    "### 13. BMI Calculator\n",
    "#### Write a Python program to calculate body mass index"
   ]
  },
  {
   "cell_type": "code",
   "execution_count": 14,
   "metadata": {},
   "outputs": [
    {
     "name": "stdout",
     "output_type": "stream",
     "text": [
      "Enter your height in cm: 180\n",
      "Enter your weight in Kg: 75\n",
      "Your BMI is: 23.15\n"
     ]
    }
   ],
   "source": [
    "height_bmi_cm = float(input(\"Enter your height in cm: \"))\n",
    "weight_bmi_kg = float(input(\"Enter your weight in Kg: \"))\n",
    "height_bmi_m = height_bmi_cm /100\n",
    "bmi = round(weight_bmi_kg / height_bmi_m**2, 2)\n",
    "print(\"Your BMI is: \" + str(bmi))"
   ]
  },
  {
   "cell_type": "markdown",
   "metadata": {},
   "source": [
    "### ---------------------------------------------"
   ]
  },
  {
   "cell_type": "markdown",
   "metadata": {},
   "source": [
    "### 14. Sum of n Positive Integers\n",
    "#### Write a python program to sum of the first n positive integers"
   ]
  },
  {
   "cell_type": "code",
   "execution_count": 11,
   "metadata": {},
   "outputs": [
    {
     "name": "stdout",
     "output_type": "stream",
     "text": [
      "Enter value of n: 4\n",
      "Value of n integers till 4 is: 10\n"
     ]
    }
   ],
   "source": [
    "int_n = int(input(\"Enter value of n: \"))\n",
    "sum_of_n = 0\n",
    "\n",
    "for i in range(int_n+1):\n",
    "    sum_of_n = sum_of_n + i\n",
    "\n",
    "print(\"Value of n integers till \" + str(int_n) + \" is: \" + str(sum_of_n))"
   ]
  },
  {
   "cell_type": "markdown",
   "metadata": {},
   "source": [
    "### ------------------------------------------ "
   ]
  },
  {
   "cell_type": "markdown",
   "metadata": {},
   "source": [
    "### 15. Digits Sum of a Number\n",
    "#### write a python program to calculate the sum of the digits in an integer "
   ]
  },
  {
   "cell_type": "code",
   "execution_count": 6,
   "metadata": {},
   "outputs": [
    {
     "name": "stdout",
     "output_type": "stream",
     "text": [
      "Enter a digit: 1234\n",
      "Sum is 10\n"
     ]
    }
   ],
   "source": [
    "input_digits = input(\"Enter a digit: \")\n",
    "\n",
    "digit_lst = [int(i) for i in input_digits]\n",
    "digit_sum = 0\n",
    "\n",
    "for j in range(len(digit_lst)):\n",
    "    digit_sum = digit_sum + digit_lst[j]\n",
    "\n",
    "print(\"Sum is \" + str(digit_sum))"
   ]
  },
  {
   "cell_type": "markdown",
   "metadata": {},
   "source": [
    "### ---------------------------------------- "
   ]
  },
  {
   "cell_type": "markdown",
   "metadata": {},
   "source": [
    "### 16. Decimal to Binary Converter\n",
    "#### Write a Python program to convert an decimal integer to binary "
   ]
  },
  {
   "cell_type": "code",
   "execution_count": 3,
   "metadata": {},
   "outputs": [
    {
     "name": "stdout",
     "output_type": "stream",
     "text": [
      "Enter a decimal number: 32\n",
      "Binary representation of 32 is 100000\n"
     ]
    }
   ],
   "source": [
    "dec_input = int(input(\"Enter a decimal number: \"))\n",
    "print(\"Binary representation of \" + str(dec_input) + \" is \" + bin(dec_input)[2:])"
   ]
  },
  {
   "cell_type": "markdown",
   "metadata": {},
   "source": [
    "### ------------------------------------"
   ]
  },
  {
   "cell_type": "markdown",
   "metadata": {},
   "source": [
    "###  17. Binary to Decimal Converter\n",
    "#### Write a program to convert binary number to Decimal number"
   ]
  },
  {
   "cell_type": "code",
   "execution_count": 1,
   "metadata": {},
   "outputs": [
    {
     "name": "stdout",
     "output_type": "stream",
     "text": [
      "Enter a Binary number: 1101\n",
      "Binary representation is: 13\n"
     ]
    }
   ],
   "source": [
    "bin_input = int(input(\"Enter a Binary number: \"))\n",
    "dec_num = 0\n",
    "bin_power = 0\n",
    "# print(bin_power)\n",
    "\n",
    "while bin_input > 0:\n",
    "    dec_num += 2 ** bin_power * (bin_input % 10)\n",
    "    bin_input //= 10\n",
    "    bin_power += 1\n",
    "print(\"Binary representation is: \" + str(dec_num) )"
   ]
  },
  {
   "cell_type": "markdown",
   "metadata": {},
   "source": [
    "### -------------------------------- "
   ]
  },
  {
   "cell_type": "markdown",
   "metadata": {},
   "source": [
    "### 18. Vowel and Consonants Counter\n",
    "#### Input a text and count the occurrences of vowels and consonant "
   ]
  },
  {
   "cell_type": "code",
   "execution_count": 28,
   "metadata": {},
   "outputs": [
    {
     "name": "stdout",
     "output_type": "stream",
     "text": [
      "Enter a string: this is A string\n",
      "Vowels: 4\n",
      "Consonents: 9\n"
     ]
    }
   ],
   "source": [
    "input_vc = input(\"Enter a string: \")\n",
    "lower_str = input_vc.lower().replace(\" \", \"\")\n",
    "str_len = len(lower_str)\n",
    "\n",
    "vowels = \"aeiou\"\n",
    "vowel_count = 0\n",
    "\n",
    "for i in vowels:\n",
    "    vowel_count += lower_str.count(i)\n",
    "\n",
    "consonents = str_len - vowel_count\n",
    "print(\"Vowels: \" + str(vowel_count) + \"\\nConsonents: \" + str(consonents))"
   ]
  },
  {
   "cell_type": "markdown",
   "metadata": {},
   "source": [
    "### --------------------------------- "
   ]
  },
  {
   "cell_type": "markdown",
   "metadata": {},
   "source": [
    "### 19. Palindrome tester\n",
    "#### Write a program to check whether given input is palindrome or not"
   ]
  },
  {
   "cell_type": "code",
   "execution_count": 12,
   "metadata": {},
   "outputs": [
    {
     "name": "stdout",
     "output_type": "stream",
     "text": [
      "Enter Text: Aha\n",
      "Text aha is palindrome\n"
     ]
    }
   ],
   "source": [
    "input_palindrome = input(\"Enter Text: \").lower()\n",
    "string_rev = input_palindrome[::-1]\n",
    "if string_rev == input_palindrome:\n",
    "    print(\"Text \" + input_palindrome + \" is palindrome\" )\n",
    "else:\n",
    "    print(\"Text \" + input_palindrome + \" is not palindrome\" )"
   ]
  },
  {
   "cell_type": "markdown",
   "metadata": {},
   "source": [
    "### ----------------------------------"
   ]
  },
  {
   "cell_type": "markdown",
   "metadata": {},
   "source": [
    "### 20. Count Alphabets, Numbers and Special Characters\n",
    "#### Write a Python program that accepts a string and calculate the number of digits and letters"
   ]
  },
  {
   "cell_type": "code",
   "execution_count": 29,
   "metadata": {},
   "outputs": [
    {
     "name": "stdout",
     "output_type": "stream",
     "text": [
      "Enter string: this6339&%$ is a string.\n",
      "Alphabets: 13\n",
      "Numbers: 4\n",
      "Spcial Characters: 4\n",
      "Spaces: 3\n"
     ]
    }
   ],
   "source": [
    "input_check_string = input(\"Enter string: \")\n",
    "alp = num = spcial = spaces = 0\n",
    "\n",
    "for i in range (len(input_check_string)):\n",
    "    if (input_check_string[i].isalpha()):\n",
    "        alp += 1\n",
    "    elif (input_check_string[i].isdigit()):\n",
    "        num += 1\n",
    "    elif (input_check_string[i].isspace()):\n",
    "        spaces += 1\n",
    "    else:\n",
    "        spcial += 1\n",
    "\n",
    "print(\"Alphabets: \" + str(alp) + \"\\nNumbers: \" + str(num) + \"\\nSpcial Characters: \" + str(spcial) + \"\\nSpaces: \" + str(spaces))   "
   ]
  },
  {
   "cell_type": "markdown",
   "metadata": {},
   "source": [
    "### ---------------------------------------------- "
   ]
  },
  {
   "cell_type": "markdown",
   "metadata": {},
   "source": [
    "### 21. Write a Python program to construct the following pattern\n",
    "#### *\n",
    "#### * *\n",
    "#### * * *\n",
    "#### * * * *\n",
    "#### * * * * *\n",
    "#### * * * *\n",
    "#### * * *\n",
    "#### * *\n",
    "#### * "
   ]
  },
  {
   "cell_type": "code",
   "execution_count": 6,
   "metadata": {},
   "outputs": [
    {
     "name": "stdout",
     "output_type": "stream",
     "text": [
      "*\n",
      "**\n",
      "***\n",
      "****\n",
      "***\n",
      "**\n",
      "*\n"
     ]
    }
   ],
   "source": [
    "for i in range(1, 5):\n",
    "    for j in range(i):\n",
    "        print(\"*\", end=\"\")\n",
    "    print()\n",
    "    \n",
    "for x in range(3, 0, -1):\n",
    "    for y in range(x):\n",
    "        print(\"*\", end=\"\")\n",
    "    print()"
   ]
  },
  {
   "cell_type": "markdown",
   "metadata": {},
   "source": [
    "### --------------------------------------"
   ]
  },
  {
   "cell_type": "markdown",
   "metadata": {},
   "source": [
    "### 22. Write a Python program to construct the following pattern\n"
   ]
  },
  {
   "cell_type": "raw",
   "metadata": {},
   "source": [
    "1\n",
    "1 2\n",
    "1 2 3\n",
    "1 2 3 4\n",
    "1 2 3 4 5\n",
    "1 2 3 4\n",
    "1 2 3\n",
    "1 2\n",
    "1"
   ]
  },
  {
   "cell_type": "code",
   "execution_count": 10,
   "metadata": {},
   "outputs": [
    {
     "name": "stdout",
     "output_type": "stream",
     "text": [
      "1\n",
      "12\n",
      "123\n",
      "1234\n",
      "12345\n",
      "1234\n",
      "123\n",
      "12\n",
      "1\n"
     ]
    }
   ],
   "source": [
    "for i in range(1, 6):\n",
    "    for j in range(i):\n",
    "        print(j+1, end=\"\")\n",
    "    print()\n",
    "    \n",
    "for x in range(4, 0, -1):\n",
    "    for y in range(x):\n",
    "        print(y+1, end=\"\")\n",
    "    print()"
   ]
  },
  {
   "cell_type": "markdown",
   "metadata": {},
   "source": [
    "### ---------------------------------------"
   ]
  },
  {
   "cell_type": "markdown",
   "metadata": {},
   "source": [
    "###  23. Write a Python program to construct the following pattern"
   ]
  },
  {
   "cell_type": "raw",
   "metadata": {},
   "source": [
    "1\n",
    "22\n",
    "333\n",
    "4444\n",
    "55555\n",
    "666666\n",
    "7777777\n",
    "88888888\n",
    "999999999"
   ]
  },
  {
   "cell_type": "code",
   "execution_count": 15,
   "metadata": {},
   "outputs": [
    {
     "name": "stdout",
     "output_type": "stream",
     "text": [
      "1\n",
      "22\n",
      "333\n",
      "4444\n",
      "55555\n",
      "666666\n",
      "7777777\n",
      "88888888\n",
      "999999999\n"
     ]
    }
   ],
   "source": [
    "for i in range(1, 10):\n",
    "    for j in range(i):\n",
    "        print(i, end=\"\")\n",
    "    print()"
   ]
  },
  {
   "cell_type": "markdown",
   "metadata": {},
   "source": [
    "### ------------------------------ "
   ]
  },
  {
   "cell_type": "markdown",
   "metadata": {},
   "source": [
    "#                                    -- End of Assignment --"
   ]
  }
 ],
 "metadata": {
  "kernelspec": {
   "display_name": "Python 3",
   "language": "python",
   "name": "python3"
  },
  "language_info": {
   "codemirror_mode": {
    "name": "ipython",
    "version": 3
   },
   "file_extension": ".py",
   "mimetype": "text/x-python",
   "name": "python",
   "nbconvert_exporter": "python",
   "pygments_lexer": "ipython3",
   "version": "3.7.4"
  }
 },
 "nbformat": 4,
 "nbformat_minor": 2
}
